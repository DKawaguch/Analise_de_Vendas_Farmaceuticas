{
 "cells": [
  {
   "cell_type": "markdown",
   "metadata": {},
   "source": [
    "# Imports"
   ]
  },
  {
   "cell_type": "code",
   "execution_count": 2,
   "metadata": {},
   "outputs": [],
   "source": [
    "import pandas as pd\n",
    "import matplotlib.pyplot as plt\n",
    "import seaborn as sns\n",
    "import numpy as np"
   ]
  },
  {
   "cell_type": "markdown",
   "metadata": {},
   "source": [
    "# Funções"
   ]
  },
  {
   "cell_type": "markdown",
   "metadata": {},
   "source": [
    "## Gerar Metadados"
   ]
  },
  {
   "cell_type": "code",
   "execution_count": null,
   "metadata": {},
   "outputs": [],
   "source": [
    "#Verificar os meta dados do DataFrame\n",
    "def generate_metadata(dataframe):\n",
    "    \"\"\"\n",
    "    Gera um dataframe contendo metadados das colunas do dataframe fornecido.\n",
    "\n",
    "    :param dataframe: DataFrame para o qual os metadados serão gerados.\n",
    "    :return: DataFrame contendo metadados.\n",
    "    \"\"\"\n",
    "\n",
    "    # Coleta de metadados básicos\n",
    "    metadata = pd.DataFrame({\n",
    "        'nome_variavel': dataframe.columns,\n",
    "        'tipo': dataframe.dtypes,\n",
    "        'qt_nulos': dataframe.isnull().sum(),\n",
    "        'percent_nulos': round((dataframe.isnull().sum() / len(dataframe))* 100,2),\n",
    "        'cardinalidade': dataframe.nunique(),\n",
    "    })\n",
    "    metadata=metadata.sort_values(by='tipo')\n",
    "    metadata = metadata.reset_index(drop=True)\n",
    "\n",
    "    return metadata\n",
    "\n",
    "# Testando a função com o dataframe dos medicamentos industrializados de novembro de 2021\n",
    "metadata_df = generate_metadata(df_industrial_medics)"
   ]
  },
  {
   "cell_type": "markdown",
   "metadata": {},
   "source": [
    "## Boxplots"
   ]
  },
  {
   "cell_type": "code",
   "execution_count": null,
   "metadata": {},
   "outputs": [],
   "source": [
    "def pod_academy_box_plot(dataframe):\n",
    "    \"\"\"\n",
    "    Plota boxplots estilizados com título simplificado para todas as variáveis numéricas do dataframe fornecido\n",
    "    em um painel com 3 gráficos por linha.\n",
    "\n",
    "    :param dataframe: DataFrame para o qual os boxplots serão gerados.\n",
    "    \"\"\"\n",
    "    # Seleciona apenas colunas numéricas\n",
    "    numeric_columns = dataframe.select_dtypes(include=['float64', 'int64']).columns\n",
    "\n",
    "    # Define o número de linhas com base no número de colunas numéricas\n",
    "    nrows = len(numeric_columns) // 3 + (len(numeric_columns) % 3 > 0)\n",
    "\n",
    "    # Inicializa o painel de gráficos\n",
    "    fig, axes = plt.subplots(nrows=nrows, ncols=3, figsize=(15, nrows * 5))\n",
    "\n",
    "    # Ajusta o layout\n",
    "    plt.tight_layout(pad=5)\n",
    "\n",
    "    # Configura estilo e paleta de cores\n",
    "    sns.set_style(\"whitegrid\")\n",
    "\n",
    "    # Plota boxplots para cada coluna numérica\n",
    "    for i, column in enumerate(numeric_columns):\n",
    "        sns.boxplot(data=dataframe[column], ax=axes[i//3, i%3], color=\"skyblue\")\n",
    "        axes[i//3, i%3].set_title(f'{column}', fontdict={'fontsize': 14, 'fontweight': 'bold'})\n",
    "        axes[i//3, i%3].set_ylabel('')\n",
    "        axes[i//3, i%3].tick_params(axis='both', which='major', labelsize=12)\n",
    "\n",
    "    # Remove gráficos vazios (se houver)\n",
    "    for j in range(i+1, nrows*3):\n",
    "        fig.delaxes(axes.flatten()[j])\n",
    "\n",
    "    # Adiciona título principal\n",
    "    fig.suptitle(\"Análise descritiva - BoxPlot\", fontsize=20, fontweight='bold', y=1.05)"
   ]
  },
  {
   "cell_type": "markdown",
   "metadata": {},
   "source": [
    "## Histogramas"
   ]
  },
  {
   "cell_type": "code",
   "execution_count": null,
   "metadata": {},
   "outputs": [],
   "source": [
    "def pod_academy_histograms(dataframe):\n",
    "    \"\"\"\n",
    "    Plota histogramas corrigidos com a curva KDE (Kernel Density Estimation) para todas as variáveis numéricas\n",
    "    do dataframe fornecido em um painel com 3 gráficos por linha.\n",
    "\n",
    "    :param dataframe: DataFrame para o qual os histogramas serão gerados.\n",
    "    \"\"\"\n",
    "    # Seleciona apenas colunas numéricas\n",
    "    numeric_columns = dataframe.select_dtypes(include=['float64', 'int64']).columns\n",
    "\n",
    "    # Define o número de linhas com base no número de colunas numéricas\n",
    "    nrows = len(numeric_columns) // 3 + (len(numeric_columns) % 3 > 0)\n",
    "\n",
    "    # Inicializa o painel de gráficos\n",
    "    fig, axes = plt.subplots(nrows=nrows, ncols=3, figsize=(15, nrows * 5))\n",
    "\n",
    "    # Ajusta o layout\n",
    "    plt.tight_layout(pad=4)\n",
    "\n",
    "    # Configura estilo e paleta de cores\n",
    "    sns.set_style(\"whitegrid\")\n",
    "\n",
    "    # Plota histogramas com KDE para cada coluna numérica\n",
    "    for i, column in enumerate(numeric_columns):\n",
    "        sns.histplot(data=dataframe[column], ax=axes[i//3, i%3], color=\"skyblue\", bins=30, kde=True)\n",
    "        axes[i//3, i%3].set_title(f'{column}', fontdict={'fontsize': 14, 'fontweight': 'bold'})\n",
    "        axes[i//3, i%3].set_ylabel('Frequência')\n",
    "        axes[i//3, i%3].tick_params(axis='both', which='major', labelsize=12)\n",
    "\n",
    "    # Remove gráficos vazios (se houver)\n",
    "    for j in range(i+1, nrows*3):\n",
    "        fig.delaxes(axes.flatten()[j])\n",
    "\n",
    "    # Adiciona título principal\n",
    "    fig.suptitle(\"Análise descritiva - Histograma com KDE\", fontsize=20, fontweight='bold', y=1.05)"
   ]
  },
  {
   "cell_type": "markdown",
   "metadata": {},
   "source": [
    "## Frequencia categórica"
   ]
  },
  {
   "cell_type": "code",
   "execution_count": null,
   "metadata": {},
   "outputs": [],
   "source": [
    "def plot_categorical_frequency_pt(df, corte_cardinalidade=30, graficos_por_linha=2):\n",
    "    \"\"\"\n",
    "    Plota a frequência de categorias para variáveis categóricas em um DataFrame.\n",
    "\n",
    "    Parâmetros:\n",
    "    - df: DataFrame para plotagem.\n",
    "    - corte_cardinalidade: Cardinalidade máxima para uma coluna ser considerada (padrão é 30).\n",
    "    - graficos_por_linha: Quantidade de gráficos por linha (padrão é 3).\n",
    "\n",
    "    Retorna:\n",
    "    - Exibe os gráficos de barras.\n",
    "    \"\"\"\n",
    "\n",
    "    # Gera metadados para o DataFrame\n",
    "    metadados = []\n",
    "    for coluna in df.columns:\n",
    "        metadados.append({\n",
    "            'Variável': coluna,\n",
    "            'Tipo': df[coluna].dtype,\n",
    "            'Cardinalidade': df[coluna].nunique()\n",
    "        })\n",
    "\n",
    "    df_metadados = pd.DataFrame(metadados)\n",
    "\n",
    "    # Filtra colunas com cardinalidade maior que o corte e tipos não numéricos\n",
    "    variaveis_categoricas = df_metadados[(df_metadados['Cardinalidade'] <= corte_cardinalidade) & (df_metadados['Tipo'] == 'object')]\n",
    "\n",
    "    # Calcula o número de linhas e colunas para os subplots\n",
    "    n_linhas = -(-len(variaveis_categoricas) // graficos_por_linha)  # Ceiling division\n",
    "    n_colunas = min(len(variaveis_categoricas), graficos_por_linha)\n",
    "\n",
    "    # Plota as variáveis categóricas\n",
    "    fig, axs = plt.subplots(nrows=n_linhas, ncols=n_colunas, figsize=(15, 5 * n_linhas))\n",
    "\n",
    "    for i, (idx, linha) in enumerate(variaveis_categoricas.iterrows()):\n",
    "        var = linha['Variável']\n",
    "        ax = axs[i // graficos_por_linha, i % graficos_por_linha]\n",
    "        df[var].value_counts().sort_index().plot(kind='bar', ax=ax, color='skyblue')\n",
    "        ax.set_title(f'Frequência em {var}')\n",
    "        ax.set_ylabel('Frequência')\n",
    "        ax.set_xlabel(var)\n",
    "\n",
    "    # Remove os eixos vazios, se houver\n",
    "    for j in range(i + 1, n_linhas * n_colunas):\n",
    "        axs[j // graficos_por_linha, j % graficos_por_linha].axis('off')\n",
    "\n",
    "    plt.tight_layout()\n",
    "    plt.show()\n",
    "\n",
    "# Testa a função com os dados e o corte padrão de cardinalidade\n",
    "plot_categorical_frequency_pt(df, corte_cardinalidade=30, graficos_por_linha=2)\n"
   ]
  },
  {
   "cell_type": "markdown",
   "metadata": {},
   "source": [
    "# Objetivo:"
   ]
  },
  {
   "cell_type": "markdown",
   "metadata": {},
   "source": [
    "Compreender as tendências, padrões e características das vendas farmacêuticas em diferentes regiões e demografias."
   ]
  },
  {
   "cell_type": "code",
   "execution_count": 3,
   "metadata": {},
   "outputs": [
    {
     "data": {
      "text/plain": [
       "(200000, 16)"
      ]
     },
     "execution_count": 3,
     "metadata": {},
     "output_type": "execute_result"
    }
   ],
   "source": [
    "# Abrir o CSV dos Medicamentos Industrializados de de Novembro de 2021\n",
    "df_industrial_medics = pd.read_csv('EDA_Industrializados_202111_sample.csv')\n",
    "\n",
    "df_industrial_medics.shape"
   ]
  },
  {
   "cell_type": "markdown",
   "metadata": {},
   "source": [
    "# Atividades a serem desenvolvidas"
   ]
  },
  {
   "cell_type": "markdown",
   "metadata": {},
   "source": [
    "## 1. Limpeza e Pré-processamento de Dados:"
   ]
  },
  {
   "cell_type": "markdown",
   "metadata": {},
   "source": [
    "* Lidar com valores ausentes: Decidir se vai imputar, preencher ou remover linhas/colunas com dados faltantes."
   ]
  },
  {
   "cell_type": "markdown",
   "metadata": {},
   "source": [
    "* Tratar outliers: Identificar e lidar com outliers que podem distorcer a análise.\n"
   ]
  },
  {
   "cell_type": "markdown",
   "metadata": {},
   "source": [
    "* Converter tipos de dados, se necessário, garantindo que colunas relacionadas a datas estejam no formato correto."
   ]
  },
  {
   "cell_type": "markdown",
   "metadata": {},
   "source": [
    "## 2. Análise Exploratória de Dados (EDA):"
   ]
  },
  {
   "cell_type": "markdown",
   "metadata": {},
   "source": [
    "* Tendências de Vendas:\n",
    "    - Vendas mensais: Identificar se há meses com vendas excepcionalmente altas ou baixas.\n",
    "    - Análise por estado (UF_VENDA): Quais estados têm o maior número de vendas? Existem padrões regionais?"
   ]
  },
  {
   "cell_type": "markdown",
   "metadata": {},
   "source": [
    "* Produtos Mais Vendidos:\n",
    "    - Baseado no PRINCIPIO_ATIVO: Quais são os medicamentos mais populares?\n",
    "    - Baseado na DESCRICAO_APRESENTACAO: Quais apresentações ou dosagens são mais vendidas?\n"
   ]
  },
  {
   "cell_type": "markdown",
   "metadata": {},
   "source": [
    "* Demografia dos Consumidores:\n",
    "    - Distribuição de idade dos compradores.\n",
    "    - Distribuição de gênero dos compradores.\n"
   ]
  },
  {
   "cell_type": "markdown",
   "metadata": {},
   "source": [
    "* Correlações:\n",
    "    - Existe uma correlação entre o tipo de medicamento e a idade do comprador?\n",
    "    - Existe uma correlação entre o gênero do comprador e o tipo de medicamento?\n"
   ]
  },
  {
   "cell_type": "markdown",
   "metadata": {},
   "source": [
    "## 3. Visualização de Dados:"
   ]
  },
  {
   "cell_type": "markdown",
   "metadata": {},
   "source": [
    "* Gráficos de barras para mostrar as vendas por estado, por medicamento e por gênero.\n"
   ]
  },
  {
   "cell_type": "markdown",
   "metadata": {},
   "source": [
    "* Histogramas para distribuição de idade.\n"
   ]
  },
  {
   "cell_type": "markdown",
   "metadata": {},
   "source": [
    "* Heatmaps para correlações.\n"
   ]
  },
  {
   "cell_type": "markdown",
   "metadata": {},
   "source": [
    "* Gráficos de linha para tendências de vendas ao longo dos meses."
   ]
  },
  {
   "cell_type": "markdown",
   "metadata": {},
   "source": [
    "## 4. Insights e Recomendações:"
   ]
  },
  {
   "cell_type": "markdown",
   "metadata": {},
   "source": [
    "* Com base na EDA, identifique insights interessantes sobre os hábitos de compra e padrões.\n"
   ]
  },
  {
   "cell_type": "markdown",
   "metadata": {},
   "source": [
    "* Formule recomendações para farmácias ou empresas farmacêuticas com base nas tendências observadas."
   ]
  },
  {
   "cell_type": "markdown",
   "metadata": {},
   "source": [
    "# Montar uma apresentação com até 5 slides sobre minha análise"
   ]
  },
  {
   "cell_type": "markdown",
   "metadata": {},
   "source": [
    "### Slide 1: Título e Introdução"
   ]
  },
  {
   "cell_type": "markdown",
   "metadata": {},
   "source": [
    "* Título: \"Análise de Vendas Farmacêuticas\"\n",
    "* Subtítulo: Uma visão geral das vendas de medicamentos."
   ]
  },
  {
   "cell_type": "markdown",
   "metadata": {},
   "source": [
    "### Slide 2: Metodologia e Limpeza de Dados"
   ]
  },
  {
   "cell_type": "markdown",
   "metadata": {},
   "source": [
    "\n",
    "* Título: \"Metodologia e Preparação de Dados\"\n",
    "* Pontos Principais:\n",
    "    - Breve descrição dos dados: O que cada coluna representa.\n",
    "    - Como os valores ausentes foram tratados.\n",
    "    - Como os outliers foram identificados e tratados.\n",
    "* Gráfico/Imagem: Uma visualização que mostre, por exemplo, a quantidade de dados ausentes por coluna ou um gráfico de caixa mostrando a distribuição de uma variável-chave."
   ]
  },
  {
   "cell_type": "markdown",
   "metadata": {},
   "source": [
    "### Slide 3: Tendências e Padrões de Vendas\n"
   ]
  },
  {
   "cell_type": "markdown",
   "metadata": {},
   "source": [
    "\n",
    "* Título: \"Tendências de Vendas por Região e Tempo\"\n",
    "* Pontos Principais:\n",
    "    - Vendas totais por estado.\n",
    "    - Meses com maiores e menores vendas.\n",
    "* Gráficos:\n",
    "    - Gráfico de barras mostrando vendas por estado.\n",
    "    - Gráfico de linha mostrando a tendência de vendas ao longo dos meses."
   ]
  },
  {
   "cell_type": "markdown",
   "metadata": {},
   "source": [
    "### Slide 4: Informações Demográficas"
   ]
  },
  {
   "cell_type": "markdown",
   "metadata": {},
   "source": [
    "\n",
    "* Título: \"Perfil do Consumidor\"\n",
    "* Pontos Principais:\n",
    "    - Distribuição de idade dos compradores.\n",
    "    - Distribuição de gênero dos compradores.\n",
    "* Gráficos:\n",
    "    - Histograma para distribuição de idade.\n",
    "    - Gráfico de barras ou torta para distribuição de gênero."
   ]
  },
  {
   "cell_type": "markdown",
   "metadata": {},
   "source": [
    "### Slide 5: Conclusões e Recomendações"
   ]
  },
  {
   "cell_type": "markdown",
   "metadata": {},
   "source": [
    "\n",
    "* Título: \"Insights e Próximos Passos\"\n",
    "* Pontos Principais:\n",
    "    - Quais medicamentos ou apresentações são os mais vendidos e onde.\n",
    "    - Insights sobre preferências demográficas.\n",
    "    - Recomendações para estratégias de marketing ou distribuição.\n",
    "* Imagem: Uma imagem que represente estratégia ou planejamento."
   ]
  }
 ],
 "metadata": {
  "kernelspec": {
   "display_name": "Python 3",
   "language": "python",
   "name": "python3"
  },
  "language_info": {
   "codemirror_mode": {
    "name": "ipython",
    "version": 3
   },
   "file_extension": ".py",
   "mimetype": "text/x-python",
   "name": "python",
   "nbconvert_exporter": "python",
   "pygments_lexer": "ipython3",
   "version": "3.12.2"
  }
 },
 "nbformat": 4,
 "nbformat_minor": 2
}
