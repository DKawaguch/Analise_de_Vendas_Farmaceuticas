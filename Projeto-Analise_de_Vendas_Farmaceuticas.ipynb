{
 "cells": [
  {
   "cell_type": "markdown",
   "metadata": {},
   "source": [
    "# Imports"
   ]
  },
  {
   "cell_type": "code",
   "execution_count": 1,
   "metadata": {},
   "outputs": [],
   "source": [
    "import pandas as pd\n",
    "import matplotlib.pyplot as plt\n",
    "import seaborn as sns\n",
    "import numpy as np"
   ]
  },
  {
   "cell_type": "markdown",
   "metadata": {},
   "source": [
    "# Objetivo:"
   ]
  },
  {
   "cell_type": "markdown",
   "metadata": {},
   "source": [
    "Compreender as tendências, padrões e características das vendas farmacêuticas em diferentes regiões e demografias."
   ]
  },
  {
   "cell_type": "markdown",
   "metadata": {},
   "source": [
    "# Atividades a serem desenvolvidas"
   ]
  },
  {
   "cell_type": "markdown",
   "metadata": {},
   "source": [
    "## 1. Limpeza e Pré-processamento de Dados:"
   ]
  },
  {
   "cell_type": "markdown",
   "metadata": {},
   "source": [
    "* Lidar com valores ausentes: Decidir se vai imputar, preencher ou remover linhas/colunas com dados faltantes.\n",
    "\n",
    "* Tratar outliers: Identificar e lidar com outliers que podem distorcer a análise.\n",
    "\n",
    "* Converter tipos de dados, se necessário, garantindo que colunas relacionadas a datas estejam no formato correto."
   ]
  },
  {
   "cell_type": "markdown",
   "metadata": {},
   "source": [
    "## 2. Análise Exploratória de Dados (EDA):"
   ]
  },
  {
   "cell_type": "markdown",
   "metadata": {},
   "source": [
    "* Tendências de Vendas:\n",
    "    - Vendas mensais: Identificar se há meses com vendas excepcionalmente altas ou baixas.\n",
    "    - Análise por estado (UF_VENDA): Quais estados têm o maior número de vendas? Existem padrões regionais?\n",
    "* Produtos Mais Vendidos:\n",
    "    - Baseado no PRINCIPIO_ATIVO: Quais são os medicamentos mais populares?\n",
    "    - Baseado na DESCRICAO_APRESENTACAO: Quais apresentações ou dosagens são mais vendidas?\n",
    "* Demografia dos Consumidores:\n",
    "    - Distribuição de idade dos compradores.\n",
    "    - Distribuição de gênero dos compradores.\n",
    "* Correlações:\n",
    "    - Existe uma correlação entre o tipo de medicamento e a idade do comprador?\n",
    "    - Existe uma correlação entre o gênero do comprador e o tipo de medicamento?\n"
   ]
  },
  {
   "cell_type": "markdown",
   "metadata": {},
   "source": [
    "## 3. Visualização de Dados:"
   ]
  },
  {
   "cell_type": "markdown",
   "metadata": {},
   "source": [
    "* Gráficos de barras para mostrar as vendas por estado, por medicamento e por gênero.\n",
    "* Histogramas para distribuição de idade.\n",
    "* Heatmaps para correlações.\n",
    "* Gráficos de linha para tendências de vendas ao longo dos meses."
   ]
  },
  {
   "cell_type": "markdown",
   "metadata": {},
   "source": [
    "## 4. Insights e Recomendações:"
   ]
  },
  {
   "cell_type": "markdown",
   "metadata": {},
   "source": [
    "* Com base na EDA, identifique insights interessantes sobre os hábitos de compra e padrões.\n",
    "* Formule recomendações para farmácias ou empresas farmacêuticas com base nas tendências observadas."
   ]
  },
  {
   "cell_type": "markdown",
   "metadata": {},
   "source": [
    "# Montar uma apresentação com até 5 slides sobre minha análise"
   ]
  },
  {
   "cell_type": "markdown",
   "metadata": {},
   "source": [
    "### Slide 1: Título e Introdução"
   ]
  },
  {
   "cell_type": "markdown",
   "metadata": {},
   "source": [
    "* Título: \"Análise de Vendas Farmacêuticas\"\n",
    "* Subtítulo: Uma visão geral das vendas de medicamentos."
   ]
  },
  {
   "cell_type": "markdown",
   "metadata": {},
   "source": [
    "### Slide 2: Metodologia e Limpeza de Dados"
   ]
  },
  {
   "cell_type": "markdown",
   "metadata": {},
   "source": [
    "\n",
    "* Título: \"Metodologia e Preparação de Dados\"\n",
    "* Pontos Principais:\n",
    "    - Breve descrição dos dados: O que cada coluna representa.\n",
    "    - Como os valores ausentes foram tratados.\n",
    "    - Como os outliers foram identificados e tratados.\n",
    "* Gráfico/Imagem: Uma visualização que mostre, por exemplo, a quantidade de dados ausentes por coluna ou um gráfico de caixa mostrando a distribuição de uma variável-chave."
   ]
  },
  {
   "cell_type": "markdown",
   "metadata": {},
   "source": [
    "### Slide 3: Tendências e Padrões de Vendas\n"
   ]
  },
  {
   "cell_type": "markdown",
   "metadata": {},
   "source": [
    "\n",
    "* Título: \"Tendências de Vendas por Região e Tempo\"\n",
    "* Pontos Principais:\n",
    "    - Vendas totais por estado.\n",
    "    - Meses com maiores e menores vendas.\n",
    "* Gráficos:\n",
    "    - Gráfico de barras mostrando vendas por estado.\n",
    "    - Gráfico de linha mostrando a tendência de vendas ao longo dos meses."
   ]
  },
  {
   "cell_type": "markdown",
   "metadata": {},
   "source": [
    "### Slide 4: Informações Demográficas"
   ]
  },
  {
   "cell_type": "markdown",
   "metadata": {},
   "source": [
    "\n",
    "* Título: \"Perfil do Consumidor\"\n",
    "* Pontos Principais:\n",
    "    - Distribuição de idade dos compradores.\n",
    "    - Distribuição de gênero dos compradores.\n",
    "* Gráficos:\n",
    "    - Histograma para distribuição de idade.\n",
    "    - Gráfico de barras ou torta para distribuição de gênero."
   ]
  },
  {
   "cell_type": "markdown",
   "metadata": {},
   "source": [
    "### Slide 5: Conclusões e Recomendações"
   ]
  },
  {
   "cell_type": "markdown",
   "metadata": {},
   "source": [
    "\n",
    "* Título: \"Insights e Próximos Passos\"\n",
    "* Pontos Principais:\n",
    "    - Quais medicamentos ou apresentações são os mais vendidos e onde.\n",
    "    - Insights sobre preferências demográficas.\n",
    "    - Recomendações para estratégias de marketing ou distribuição.\n",
    "* Imagem: Uma imagem que represente estratégia ou planejamento."
   ]
  }
 ],
 "metadata": {
  "kernelspec": {
   "display_name": "Python 3",
   "language": "python",
   "name": "python3"
  },
  "language_info": {
   "codemirror_mode": {
    "name": "ipython",
    "version": 3
   },
   "file_extension": ".py",
   "mimetype": "text/x-python",
   "name": "python",
   "nbconvert_exporter": "python",
   "pygments_lexer": "ipython3",
   "version": "3.12.2"
  }
 },
 "nbformat": 4,
 "nbformat_minor": 2
}
