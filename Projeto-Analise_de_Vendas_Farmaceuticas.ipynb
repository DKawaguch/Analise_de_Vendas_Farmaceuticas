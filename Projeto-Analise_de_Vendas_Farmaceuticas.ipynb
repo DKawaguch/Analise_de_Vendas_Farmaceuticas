{
 "cells": [
  {
   "cell_type": "markdown",
   "metadata": {},
   "source": [
    "# Imports"
   ]
  },
  {
   "cell_type": "code",
   "execution_count": 1,
   "metadata": {},
   "outputs": [],
   "source": [
    "import pandas as pd\n",
    "import matplotlib.pyplot as plt\n",
    "import seaborn as sns\n",
    "import numpy as np"
   ]
  },
  {
   "cell_type": "markdown",
   "metadata": {},
   "source": [
    "# Funções"
   ]
  },
  {
   "cell_type": "markdown",
   "metadata": {},
   "source": [
    "## Gerar Metadados"
   ]
  },
  {
   "cell_type": "code",
   "execution_count": 2,
   "metadata": {},
   "outputs": [],
   "source": [
    "#Verificar os meta dados do DataFrame\n",
    "def generate_metadata(dataframe):\n",
    "    \"\"\"\n",
    "    Gera um dataframe contendo metadados das colunas do dataframe fornecido.\n",
    "\n",
    "    :param dataframe: DataFrame para o qual os metadados serão gerados.\n",
    "    :return: DataFrame contendo metadados.\n",
    "    \"\"\"\n",
    "\n",
    "    # Coleta de metadados básicos\n",
    "    metadata = pd.DataFrame({\n",
    "        'nome_variavel': dataframe.columns,\n",
    "        'tipo': dataframe.dtypes,\n",
    "        'qt_nulos': dataframe.isnull().sum(),\n",
    "        'percent_nulos': round((dataframe.isnull().sum() / len(dataframe))* 100,2),\n",
    "        'cardinalidade': dataframe.nunique(),\n",
    "    })\n",
    "    metadata=metadata.sort_values(by='tipo')\n",
    "    metadata = metadata.reset_index(drop=True)\n",
    "\n",
    "    return metadata"
   ]
  },
  {
   "cell_type": "markdown",
   "metadata": {},
   "source": [
    "## Boxplots"
   ]
  },
  {
   "cell_type": "code",
   "execution_count": 3,
   "metadata": {},
   "outputs": [],
   "source": [
    "def pod_academy_box_plot(dataframe):\n",
    "    \"\"\"\n",
    "    Plota boxplots estilizados com título simplificado para todas as variáveis numéricas do dataframe fornecido\n",
    "    em um painel com 3 gráficos por linha.\n",
    "\n",
    "    :param dataframe: DataFrame para o qual os boxplots serão gerados.\n",
    "    \"\"\"\n",
    "    # Seleciona apenas colunas numéricas \n",
    "    numeric_columns = dataframe.select_dtypes(include=['float64', 'int64']).columns\n",
    "\n",
    "    # Define o número de linhas com base no número de colunas numéricas\n",
    "    nrows = len(numeric_columns) // 3 + (len(numeric_columns) % 3 > 0)\n",
    "\n",
    "    # Inicializa o painel de gráficos\n",
    "    fig, axes = plt.subplots(nrows=nrows, ncols=3, figsize=(15, nrows * 5))\n",
    "\n",
    "    # Ajusta o layout\n",
    "    plt.tight_layout(pad=5)\n",
    "\n",
    "    # Configura estilo e paleta de cores\n",
    "    sns.set_style(\"whitegrid\")\n",
    "\n",
    "    # Plota boxplots para cada coluna numérica\n",
    "    for i, column in enumerate(numeric_columns):\n",
    "        sns.boxplot(data=dataframe[column], ax=axes[i//3, i%3], color=\"skyblue\")\n",
    "        axes[i//3, i%3].set_title(f'{column}', fontdict={'fontsize': 14, 'fontweight': 'bold'})\n",
    "        axes[i//3, i%3].set_ylabel('')\n",
    "        axes[i//3, i%3].tick_params(axis='both', which='major', labelsize=12)\n",
    "\n",
    "    # Remove gráficos vazios (se houver)\n",
    "    for j in range(i+1, nrows*3):\n",
    "        fig.delaxes(axes.flatten()[j])\n",
    "\n",
    "    # Adiciona título principal\n",
    "    fig.suptitle(\"Análise descritiva - BoxPlot\", fontsize=20, fontweight='bold', y=1.05)"
   ]
  },
  {
   "cell_type": "code",
   "execution_count": 4,
   "metadata": {},
   "outputs": [],
   "source": [
    "def box_plot(dataframe, column):\n",
    "    \"\"\"\n",
    "    Plota um boxplot estilizado para a coluna especificada do dataframe fornecido.\n",
    "\n",
    "    :param dataframe: DataFrame para o qual o boxplot será gerado.\n",
    "    :param column: Nome da coluna para a qual o boxplot será gerado.\n",
    "    \"\"\"\n",
    "    # Configura estilo e paleta de cores\n",
    "    sns.set_style(\"whitegrid\")\n",
    "\n",
    "    # Plota boxplot\n",
    "    plt.figure(figsize=(8, 5))\n",
    "    sns.boxplot(data=dataframe[column], color=\"skyblue\")\n",
    "    plt.title(f'Boxplot da variável {column}', fontsize=16, fontweight='bold')\n",
    "    plt.ylabel('')\n",
    "    plt.tick_params(axis='both', which='major', labelsize=12)"
   ]
  },
  {
   "cell_type": "markdown",
   "metadata": {},
   "source": [
    "## Histogramas"
   ]
  },
  {
   "cell_type": "code",
   "execution_count": 5,
   "metadata": {},
   "outputs": [],
   "source": [
    "def pod_academy_histograms(dataframe):\n",
    "    \"\"\"\n",
    "    Plota histogramas corrigidos com a curva KDE (Kernel Density Estimation) para todas as variáveis numéricas\n",
    "    do dataframe fornecido em um painel com 3 gráficos por linha.\n",
    "\n",
    "    :param dataframe: DataFrame para o qual os histogramas serão gerados.\n",
    "    \"\"\"\n",
    "    # Seleciona apenas colunas numéricas\n",
    "    numeric_columns = dataframe.select_dtypes(include=['float64', 'int64']).columns\n",
    "\n",
    "    # Define o número de linhas com base no número de colunas numéricas\n",
    "    nrows = len(numeric_columns) // 3 + (len(numeric_columns) % 3 > 0)\n",
    "\n",
    "    # Inicializa o painel de gráficos\n",
    "    fig, axes = plt.subplots(nrows=nrows, ncols=3, figsize=(15, nrows * 5))\n",
    "\n",
    "    # Ajusta o layout\n",
    "    plt.tight_layout(pad=4)\n",
    "\n",
    "    # Configura estilo e paleta de cores\n",
    "    sns.set_style(\"whitegrid\")\n",
    "\n",
    "    # Plota histogramas com KDE para cada coluna numérica\n",
    "    for i, column in enumerate(numeric_columns):\n",
    "        sns.histplot(data=dataframe[column], ax=axes[i//3, i%3], color=\"skyblue\", bins=30, kde=True)\n",
    "        axes[i//3, i%3].set_title(f'{column}', fontdict={'fontsize': 14, 'fontweight': 'bold'})\n",
    "        axes[i//3, i%3].set_ylabel('Frequência')\n",
    "        axes[i//3, i%3].tick_params(axis='both', which='major', labelsize=12)\n",
    "\n",
    "    # Remove gráficos vazios (se houver)\n",
    "    for j in range(i+1, nrows*3):\n",
    "        fig.delaxes(axes.flatten()[j])\n",
    "\n",
    "    # Adiciona título principal\n",
    "    fig.suptitle(\"Análise descritiva - Histograma com KDE\", fontsize=20, fontweight='bold', y=1.05)"
   ]
  },
  {
   "cell_type": "code",
   "execution_count": 6,
   "metadata": {},
   "outputs": [],
   "source": [
    "def histogram(dataframe, column):\n",
    "    \"\"\"\n",
    "    Plota um histograma corrigido com a curva KDE (Kernel Density Estimation) para a coluna especificada\n",
    "    do dataframe fornecido.\n",
    "\n",
    "    :param dataframe: DataFrame para o qual o histograma será gerado.\n",
    "    :param column: Nome da coluna para a qual o histograma será gerado.\n",
    "    \"\"\"\n",
    "    # Configura estilo e paleta de cores\n",
    "    sns.set_style(\"whitegrid\")\n",
    "\n",
    "    # Plota histograma com KDE\n",
    "    plt.figure(figsize=(8, 5))\n",
    "    sns.histplot(data=dataframe[column], color=\"skyblue\", bins=30, kde=True)\n",
    "    plt.title(f'Histograma com KDE da variável {column}', fontsize=16, fontweight='bold')\n",
    "    plt.xlabel(column)\n",
    "    plt.ylabel('Frequência')\n",
    "    plt.tick_params(axis='both', which='major', labelsize=12)"
   ]
  },
  {
   "cell_type": "markdown",
   "metadata": {},
   "source": [
    "## Frequencia categórica"
   ]
  },
  {
   "cell_type": "code",
   "execution_count": 7,
   "metadata": {},
   "outputs": [],
   "source": [
    "def plot_categorical_frequency_pt(df, corte_cardinalidade=30, graficos_por_linha=2):\n",
    "    \"\"\"\n",
    "    Plota a frequência de categorias para variáveis categóricas em um DataFrame.\n",
    "\n",
    "    Parâmetros:\n",
    "    - df: DataFrame para plotagem.\n",
    "    - corte_cardinalidade: Cardinalidade máxima para uma coluna ser considerada (padrão é 30).\n",
    "    - graficos_por_linha: Quantidade de gráficos por linha (padrão é 3).\n",
    "\n",
    "    Retorna:\n",
    "    - Exibe os gráficos de barras.\n",
    "    \"\"\"\n",
    "\n",
    "    # Gera metadados para o DataFrame\n",
    "    metadados = []\n",
    "    for coluna in df.columns:\n",
    "        metadados.append({\n",
    "            'Variável': coluna,\n",
    "            'Tipo': df[coluna].dtype,\n",
    "            'Cardinalidade': df[coluna].nunique()\n",
    "        })\n",
    "\n",
    "    df_metadados = pd.DataFrame(metadados)\n",
    "\n",
    "    # Filtra colunas com cardinalidade maior que o corte e tipos não numéricos\n",
    "    variaveis_categoricas = df_metadados[(df_metadados['Cardinalidade'] <= corte_cardinalidade) & (df_metadados['Tipo'] == 'object')]\n",
    "\n",
    "    # Calcula o número de linhas e colunas para os subplots\n",
    "    n_linhas = -(-len(variaveis_categoricas) // graficos_por_linha)  # Ceiling division\n",
    "    n_colunas = min(len(variaveis_categoricas), graficos_por_linha)\n",
    "\n",
    "    # Plota as variáveis categóricas\n",
    "    fig, axs = plt.subplots(nrows=n_linhas, ncols=n_colunas, figsize=(15, 5 * n_linhas))\n",
    "\n",
    "    for i, (idx, linha) in enumerate(variaveis_categoricas.iterrows()):\n",
    "        var = linha['Variável']\n",
    "        ax = axs[i // graficos_por_linha, i % graficos_por_linha]\n",
    "        df[var].value_counts().sort_index().plot(kind='bar', ax=ax, color='skyblue')\n",
    "        ax.set_title(f'Frequência em {var}')\n",
    "        ax.set_ylabel('Frequência')\n",
    "        ax.set_xlabel(var)\n",
    "\n",
    "    # Remove os eixos vazios, se houver\n",
    "    for j in range(i + 1, n_linhas * n_colunas):\n",
    "        axs[j // graficos_por_linha, j % graficos_por_linha].axis('off')\n",
    "\n",
    "    plt.tight_layout()\n",
    "    plt.show()\n",
    "\n",
    "# Testa a função com os dados e o corte padrão de cardinalidade\n",
    "#plot_categorical_frequency_pt(df, corte_cardinalidade=30, graficos_por_linha=2)\n"
   ]
  },
  {
   "cell_type": "markdown",
   "metadata": {},
   "source": [
    "# Objetivo:"
   ]
  },
  {
   "cell_type": "markdown",
   "metadata": {},
   "source": [
    "Compreender as tendências, padrões e características das vendas farmacêuticas em diferentes regiões e demografias."
   ]
  },
  {
   "cell_type": "code",
   "execution_count": 8,
   "metadata": {},
   "outputs": [
    {
     "data": {
      "text/plain": [
       "(200000, 16)"
      ]
     },
     "execution_count": 8,
     "metadata": {},
     "output_type": "execute_result"
    }
   ],
   "source": [
    "# Abrir o CSV dos Medicamentos Industrializados de de Novembro de 2021\n",
    "df_industrial_medics = pd.read_csv('EDA_Industrializados_202111_sample.csv')\n",
    "\n",
    "df_industrial_medics.shape"
   ]
  },
  {
   "cell_type": "code",
   "execution_count": 9,
   "metadata": {},
   "outputs": [
    {
     "data": {
      "text/html": [
       "<div>\n",
       "<style scoped>\n",
       "    .dataframe tbody tr th:only-of-type {\n",
       "        vertical-align: middle;\n",
       "    }\n",
       "\n",
       "    .dataframe tbody tr th {\n",
       "        vertical-align: top;\n",
       "    }\n",
       "\n",
       "    .dataframe thead th {\n",
       "        text-align: right;\n",
       "    }\n",
       "</style>\n",
       "<table border=\"1\" class=\"dataframe\">\n",
       "  <thead>\n",
       "    <tr style=\"text-align: right;\">\n",
       "      <th></th>\n",
       "      <th>Unnamed: 0</th>\n",
       "      <th>ANO_VENDA</th>\n",
       "      <th>MES_VENDA</th>\n",
       "      <th>UF_VENDA</th>\n",
       "      <th>MUNICIPIO_VENDA</th>\n",
       "      <th>PRINCIPIO_ATIVO</th>\n",
       "      <th>DESCRICAO_APRESENTACAO</th>\n",
       "      <th>QTD_VENDIDA</th>\n",
       "      <th>UNIDADE_MEDIDA</th>\n",
       "      <th>CONSELHO_PRESCRITOR</th>\n",
       "      <th>UF_CONSELHO_PRESCRITOR</th>\n",
       "      <th>TIPO_RECEITUARIO</th>\n",
       "      <th>CID10</th>\n",
       "      <th>SEXO</th>\n",
       "      <th>IDADE</th>\n",
       "      <th>UNIDADE_IDADE</th>\n",
       "    </tr>\n",
       "  </thead>\n",
       "  <tbody>\n",
       "    <tr>\n",
       "      <th>0</th>\n",
       "      <td>5310</td>\n",
       "      <td>2021</td>\n",
       "      <td>11</td>\n",
       "      <td>CE</td>\n",
       "      <td>FORTALEZA</td>\n",
       "      <td>OXCARBAZEPINA</td>\n",
       "      <td>300 MG COM REV CT BL AL AL X 30</td>\n",
       "      <td>3</td>\n",
       "      <td>CAIXA</td>\n",
       "      <td>CRM</td>\n",
       "      <td>CE</td>\n",
       "      <td>1.0</td>\n",
       "      <td>NaN</td>\n",
       "      <td>NaN</td>\n",
       "      <td>NaN</td>\n",
       "      <td>NaN</td>\n",
       "    </tr>\n",
       "    <tr>\n",
       "      <th>1</th>\n",
       "      <td>3356</td>\n",
       "      <td>2021</td>\n",
       "      <td>11</td>\n",
       "      <td>RJ</td>\n",
       "      <td>RIO DE JANEIRO</td>\n",
       "      <td>CLORIDRATO DE MOXIFLOXACINO</td>\n",
       "      <td>5 MG/ML SOL OFT CT FR PLAS TRANS GOT X 5 ML</td>\n",
       "      <td>1</td>\n",
       "      <td>CAIXA</td>\n",
       "      <td>CRM</td>\n",
       "      <td>RJ</td>\n",
       "      <td>5.0</td>\n",
       "      <td>NaN</td>\n",
       "      <td>2.0</td>\n",
       "      <td>50.0</td>\n",
       "      <td>1.0</td>\n",
       "    </tr>\n",
       "    <tr>\n",
       "      <th>2</th>\n",
       "      <td>137131</td>\n",
       "      <td>2021</td>\n",
       "      <td>11</td>\n",
       "      <td>RJ</td>\n",
       "      <td>RIO DE JANEIRO</td>\n",
       "      <td>SULFADIAZINA DE PRATA</td>\n",
       "      <td>10 MG / G CREM DERM CT BG AL REV X 50 G</td>\n",
       "      <td>2</td>\n",
       "      <td>CAIXA</td>\n",
       "      <td>CRM</td>\n",
       "      <td>RJ</td>\n",
       "      <td>5.0</td>\n",
       "      <td>NaN</td>\n",
       "      <td>2.0</td>\n",
       "      <td>75.0</td>\n",
       "      <td>1.0</td>\n",
       "    </tr>\n",
       "    <tr>\n",
       "      <th>3</th>\n",
       "      <td>202348</td>\n",
       "      <td>2021</td>\n",
       "      <td>11</td>\n",
       "      <td>PR</td>\n",
       "      <td>ROLÂNDIA</td>\n",
       "      <td>ALPRAZOLAM</td>\n",
       "      <td>2 MG COM CT BL AL PLAS INC X 30</td>\n",
       "      <td>4</td>\n",
       "      <td>FRASCO</td>\n",
       "      <td>CRM</td>\n",
       "      <td>PR</td>\n",
       "      <td>2.0</td>\n",
       "      <td>NaN</td>\n",
       "      <td>NaN</td>\n",
       "      <td>NaN</td>\n",
       "      <td>NaN</td>\n",
       "    </tr>\n",
       "    <tr>\n",
       "      <th>4</th>\n",
       "      <td>152609</td>\n",
       "      <td>2021</td>\n",
       "      <td>11</td>\n",
       "      <td>RJ</td>\n",
       "      <td>SÃO GONÇALO</td>\n",
       "      <td>AMOXICILINA + CLAVULANATO DE POTÁSSIO</td>\n",
       "      <td>(500+125) MG COM REV CT STR AL/AL X 18</td>\n",
       "      <td>2</td>\n",
       "      <td>CAIXA</td>\n",
       "      <td>CRM</td>\n",
       "      <td>RJ</td>\n",
       "      <td>5.0</td>\n",
       "      <td>NaN</td>\n",
       "      <td>1.0</td>\n",
       "      <td>23.0</td>\n",
       "      <td>1.0</td>\n",
       "    </tr>\n",
       "  </tbody>\n",
       "</table>\n",
       "</div>"
      ],
      "text/plain": [
       "   Unnamed: 0  ANO_VENDA  MES_VENDA UF_VENDA MUNICIPIO_VENDA  \\\n",
       "0        5310       2021         11       CE       FORTALEZA   \n",
       "1        3356       2021         11       RJ  RIO DE JANEIRO   \n",
       "2      137131       2021         11       RJ  RIO DE JANEIRO   \n",
       "3      202348       2021         11       PR        ROLÂNDIA   \n",
       "4      152609       2021         11       RJ     SÃO GONÇALO   \n",
       "\n",
       "                         PRINCIPIO_ATIVO  \\\n",
       "0                          OXCARBAZEPINA   \n",
       "1            CLORIDRATO DE MOXIFLOXACINO   \n",
       "2                  SULFADIAZINA DE PRATA   \n",
       "3                             ALPRAZOLAM   \n",
       "4  AMOXICILINA + CLAVULANATO DE POTÁSSIO   \n",
       "\n",
       "                        DESCRICAO_APRESENTACAO  QTD_VENDIDA UNIDADE_MEDIDA  \\\n",
       "0              300 MG COM REV CT BL AL AL X 30            3          CAIXA   \n",
       "1  5 MG/ML SOL OFT CT FR PLAS TRANS GOT X 5 ML            1          CAIXA   \n",
       "2    10 MG / G CREM DERM CT BG AL REV X 50 G              2          CAIXA   \n",
       "3              2 MG COM CT BL AL PLAS INC X 30            4         FRASCO   \n",
       "4       (500+125) MG COM REV CT STR AL/AL X 18            2          CAIXA   \n",
       "\n",
       "  CONSELHO_PRESCRITOR UF_CONSELHO_PRESCRITOR  TIPO_RECEITUARIO CID10  SEXO  \\\n",
       "0                 CRM                     CE               1.0   NaN   NaN   \n",
       "1                 CRM                     RJ               5.0   NaN   2.0   \n",
       "2                 CRM                     RJ               5.0   NaN   2.0   \n",
       "3                 CRM                     PR               2.0   NaN   NaN   \n",
       "4                 CRM                     RJ               5.0   NaN   1.0   \n",
       "\n",
       "   IDADE  UNIDADE_IDADE  \n",
       "0    NaN            NaN  \n",
       "1   50.0            1.0  \n",
       "2   75.0            1.0  \n",
       "3    NaN            NaN  \n",
       "4   23.0            1.0  "
      ]
     },
     "execution_count": 9,
     "metadata": {},
     "output_type": "execute_result"
    }
   ],
   "source": [
    "# Vamos ver a disposição dos dados na tabela\n",
    "df_industrial_medics.head()"
   ]
  },
  {
   "cell_type": "markdown",
   "metadata": {},
   "source": [
    "É importante sabermos o que signifiicam algumas da variáveis não tão obvias como 'TIPO_RECEITUARIO', 'UNIDADE_IDADE', 'CID10'//\n",
    "*COLOCAR A DESCRIÇÃO DAS VARIÁVEIS*"
   ]
  },
  {
   "cell_type": "markdown",
   "metadata": {},
   "source": [
    "Precisamos ver agora os metadados e como estao distribuidos, nulos e cardinalidade"
   ]
  },
  {
   "cell_type": "code",
   "execution_count": 10,
   "metadata": {},
   "outputs": [
    {
     "data": {
      "text/html": [
       "<div>\n",
       "<style scoped>\n",
       "    .dataframe tbody tr th:only-of-type {\n",
       "        vertical-align: middle;\n",
       "    }\n",
       "\n",
       "    .dataframe tbody tr th {\n",
       "        vertical-align: top;\n",
       "    }\n",
       "\n",
       "    .dataframe thead th {\n",
       "        text-align: right;\n",
       "    }\n",
       "</style>\n",
       "<table border=\"1\" class=\"dataframe\">\n",
       "  <thead>\n",
       "    <tr style=\"text-align: right;\">\n",
       "      <th></th>\n",
       "      <th>nome_variavel</th>\n",
       "      <th>tipo</th>\n",
       "      <th>qt_nulos</th>\n",
       "      <th>percent_nulos</th>\n",
       "      <th>cardinalidade</th>\n",
       "    </tr>\n",
       "  </thead>\n",
       "  <tbody>\n",
       "    <tr>\n",
       "      <th>0</th>\n",
       "      <td>Unnamed: 0</td>\n",
       "      <td>int64</td>\n",
       "      <td>0</td>\n",
       "      <td>0.00</td>\n",
       "      <td>200000</td>\n",
       "    </tr>\n",
       "    <tr>\n",
       "      <th>1</th>\n",
       "      <td>ANO_VENDA</td>\n",
       "      <td>int64</td>\n",
       "      <td>0</td>\n",
       "      <td>0.00</td>\n",
       "      <td>1</td>\n",
       "    </tr>\n",
       "    <tr>\n",
       "      <th>2</th>\n",
       "      <td>MES_VENDA</td>\n",
       "      <td>int64</td>\n",
       "      <td>0</td>\n",
       "      <td>0.00</td>\n",
       "      <td>1</td>\n",
       "    </tr>\n",
       "    <tr>\n",
       "      <th>3</th>\n",
       "      <td>QTD_VENDIDA</td>\n",
       "      <td>int64</td>\n",
       "      <td>0</td>\n",
       "      <td>0.00</td>\n",
       "      <td>434</td>\n",
       "    </tr>\n",
       "    <tr>\n",
       "      <th>4</th>\n",
       "      <td>TIPO_RECEITUARIO</td>\n",
       "      <td>float64</td>\n",
       "      <td>0</td>\n",
       "      <td>0.00</td>\n",
       "      <td>5</td>\n",
       "    </tr>\n",
       "    <tr>\n",
       "      <th>5</th>\n",
       "      <td>SEXO</td>\n",
       "      <td>float64</td>\n",
       "      <td>68884</td>\n",
       "      <td>34.44</td>\n",
       "      <td>2</td>\n",
       "    </tr>\n",
       "    <tr>\n",
       "      <th>6</th>\n",
       "      <td>IDADE</td>\n",
       "      <td>float64</td>\n",
       "      <td>68884</td>\n",
       "      <td>34.44</td>\n",
       "      <td>180</td>\n",
       "    </tr>\n",
       "    <tr>\n",
       "      <th>7</th>\n",
       "      <td>UNIDADE_IDADE</td>\n",
       "      <td>float64</td>\n",
       "      <td>68884</td>\n",
       "      <td>34.44</td>\n",
       "      <td>2</td>\n",
       "    </tr>\n",
       "    <tr>\n",
       "      <th>8</th>\n",
       "      <td>UF_VENDA</td>\n",
       "      <td>object</td>\n",
       "      <td>0</td>\n",
       "      <td>0.00</td>\n",
       "      <td>15</td>\n",
       "    </tr>\n",
       "    <tr>\n",
       "      <th>9</th>\n",
       "      <td>MUNICIPIO_VENDA</td>\n",
       "      <td>object</td>\n",
       "      <td>0</td>\n",
       "      <td>0.00</td>\n",
       "      <td>352</td>\n",
       "    </tr>\n",
       "    <tr>\n",
       "      <th>10</th>\n",
       "      <td>PRINCIPIO_ATIVO</td>\n",
       "      <td>object</td>\n",
       "      <td>381</td>\n",
       "      <td>0.19</td>\n",
       "      <td>353</td>\n",
       "    </tr>\n",
       "    <tr>\n",
       "      <th>11</th>\n",
       "      <td>DESCRICAO_APRESENTACAO</td>\n",
       "      <td>object</td>\n",
       "      <td>0</td>\n",
       "      <td>0.00</td>\n",
       "      <td>2193</td>\n",
       "    </tr>\n",
       "    <tr>\n",
       "      <th>12</th>\n",
       "      <td>UNIDADE_MEDIDA</td>\n",
       "      <td>object</td>\n",
       "      <td>0</td>\n",
       "      <td>0.00</td>\n",
       "      <td>2</td>\n",
       "    </tr>\n",
       "    <tr>\n",
       "      <th>13</th>\n",
       "      <td>CONSELHO_PRESCRITOR</td>\n",
       "      <td>object</td>\n",
       "      <td>0</td>\n",
       "      <td>0.00</td>\n",
       "      <td>4</td>\n",
       "    </tr>\n",
       "    <tr>\n",
       "      <th>14</th>\n",
       "      <td>UF_CONSELHO_PRESCRITOR</td>\n",
       "      <td>object</td>\n",
       "      <td>0</td>\n",
       "      <td>0.00</td>\n",
       "      <td>27</td>\n",
       "    </tr>\n",
       "    <tr>\n",
       "      <th>15</th>\n",
       "      <td>CID10</td>\n",
       "      <td>object</td>\n",
       "      <td>199796</td>\n",
       "      <td>99.90</td>\n",
       "      <td>16</td>\n",
       "    </tr>\n",
       "  </tbody>\n",
       "</table>\n",
       "</div>"
      ],
      "text/plain": [
       "             nome_variavel     tipo  qt_nulos  percent_nulos  cardinalidade\n",
       "0               Unnamed: 0    int64         0           0.00         200000\n",
       "1                ANO_VENDA    int64         0           0.00              1\n",
       "2                MES_VENDA    int64         0           0.00              1\n",
       "3              QTD_VENDIDA    int64         0           0.00            434\n",
       "4         TIPO_RECEITUARIO  float64         0           0.00              5\n",
       "5                     SEXO  float64     68884          34.44              2\n",
       "6                    IDADE  float64     68884          34.44            180\n",
       "7            UNIDADE_IDADE  float64     68884          34.44              2\n",
       "8                 UF_VENDA   object         0           0.00             15\n",
       "9          MUNICIPIO_VENDA   object         0           0.00            352\n",
       "10         PRINCIPIO_ATIVO   object       381           0.19            353\n",
       "11  DESCRICAO_APRESENTACAO   object         0           0.00           2193\n",
       "12          UNIDADE_MEDIDA   object         0           0.00              2\n",
       "13     CONSELHO_PRESCRITOR   object         0           0.00              4\n",
       "14  UF_CONSELHO_PRESCRITOR   object         0           0.00             27\n",
       "15                   CID10   object    199796          99.90             16"
      ]
     },
     "execution_count": 10,
     "metadata": {},
     "output_type": "execute_result"
    }
   ],
   "source": [
    "generate_metadata(df_industrial_medics)"
   ]
  },
  {
   "cell_type": "markdown",
   "metadata": {},
   "source": [
    "# Atividades a serem desenvolvidas"
   ]
  },
  {
   "cell_type": "markdown",
   "metadata": {},
   "source": [
    "## 1. Limpeza e Pré-processamento de Dados:"
   ]
  },
  {
   "cell_type": "markdown",
   "metadata": {},
   "source": [
    "* Lidar com valores ausentes: Decidir se vai imputar, preencher ou remover linhas/colunas com dados faltantes."
   ]
  },
  {
   "cell_type": "markdown",
   "metadata": {},
   "source": [
    "1. Podemos identificar de imediato que a quantidade de nulos para 'SEXO', 'IDADE' e 'UNIDADE_IDADE', e igual, indicando uma correlação da origem desses dados, esses nulos em específico talvez seja melhor não alterar e não incluir nas análises"
   ]
  },
  {
   "cell_type": "markdown",
   "metadata": {},
   "source": [
    "2. Em relação á variável de 'PRINCIPIO_ATIVO' temos uma porcentagem de apenas 0,19 de dados faltantes, para não descartar quase 400 linhas podemos substituir esses valores pela mediana, dessa forma a distrituição dos outros valores fica relativamenete semelhante"
   ]
  },
  {
   "cell_type": "markdown",
   "metadata": {},
   "source": [
    "3. Agora a variável 'CID10' possui 99.9% de valores nulos, basicamente inutilizando a coluna para análises"
   ]
  },
  {
   "cell_type": "code",
   "execution_count": 11,
   "metadata": {},
   "outputs": [],
   "source": [
    "# Agora vamos calcular a mediana da curva de frequência de de 'PRINCIPIO_ATIVO'\n",
    "mdn = df_industrial_medics['PRINCIPIO_ATIVO'].value_counts().median()\n",
    "\n",
    "# Agora precisamosa saber qual o(s) principio(s) ativo(s) que apareceram possuem frequencia na mediana\n",
    "mdn_actv_prin = df_industrial_medics['PRINCIPIO_ATIVO'].value_counts()[df_industrial_medics['PRINCIPIO_ATIVO'].value_counts() == mdn]\n",
    "\n",
    "# Por ultimo substituimos os valores nulos da coluna 'PRINCIPIO_ATIVO' por DONEPEZILA  \n",
    "df_industrial_medics['PRINCIPIO_ATIVO'].fillna('DONEPEZILA', inplace=True)"
   ]
  },
  {
   "cell_type": "markdown",
   "metadata": {},
   "source": [
    "* Tratar outliers: Identificar e lidar com outliers que podem distorcer a análise.\n"
   ]
  },
  {
   "cell_type": "markdown",
   "metadata": {},
   "source": [
    "1. Para tratar outliers podemos plotar Boxplots e/ou Histogramas (geralmente em distribuição normal)"
   ]
  },
  {
   "cell_type": "code",
   "execution_count": 12,
   "metadata": {},
   "outputs": [
    {
     "data": {
      "image/png": "[encoded data removed]",
      "text/plain": [
       "<Figure size 1500x1500 with 8 Axes>"
      ]
     },
     "metadata": {},
     "output_type": "display_data"
    }
   ],
   "source": [
    "# Podemos fazer Boxplots das variáveis numéricas para ver com estão os outliers e determinar se precisamos ou não de tratamento\n",
    "\n",
    "pod_academy_box_plot(df_industrial_medics)"
   ]
  },
  {
   "cell_type": "markdown",
   "metadata": {},
   "source": [
    "2. Os únicos plots que nos dão alguma informação são de 'IDADE' e 'QTD_VENDIDA'. \n",
    "    1. Vemos primeiro que temos idades até 1000, provavelmente um erro decimal interpretando 100.0 como 1000 ou os valores nulos estão atrapalhando o cálculo.\n",
    "    2. E 'QTD_VENDIDA' possui quase todos os dados fora da mediana"
   ]
  },
  {
   "cell_type": "code",
   "execution_count": 13,
   "metadata": {},
   "outputs": [
    {
     "data": {
      "image/png": "[encoded data removed]",
      "text/plain": [
       "<Figure size 800x500 with 1 Axes>"
      ]
     },
     "metadata": {},
     "output_type": "display_data"
    }
   ],
   "source": [
    "# Primeiro vamos ver o que acontece com o boxplot de 'IDADE' desconsiderando os valores nulos\n",
    "box_plot(df_industrial_medics.dropna(), 'IDADE')"
   ]
  },
  {
   "cell_type": "code",
   "execution_count": 30,
   "metadata": {},
   "outputs": [
    {
     "data": {
      "text/plain": [
       "array([ nan,  50.,  75.,  23.,  20.,   6.,  22.,  34.,   1.,  37.,  31.,\n",
       "        44.,  15.,  25.,   8.,  72.,  47.,  29.,  40.,  39.,  77.,  30.,\n",
       "        48.,  52.,  36.,  35.,   0.,  80.,   4.,  28.,  55.,  58.,  41.,\n",
       "        16.,  42.,  66.,  64.,  73.,  78.,  49.,  27.,  10.,  46.,  63.,\n",
       "        24.,  62.,  61.,  68.,  56.,  26.,   5.,  17.,  12.,   7.,  57.,\n",
       "        45.,  54.,  38.,  59.,  32.,  65.,  60.,  14.,   2.,  13.,  67.,\n",
       "        71.,  33.,  51.,   3.,  11.,  43.,  18.,  21.,  81.,  83.,  70.,\n",
       "        79.,   9.,  19.,  84.,  76.,  53.,  82.,  74.,  69.,  90.,  91.,\n",
       "        85.,  93.,  87.,  89.,  96.,  92., 999.,  95., 104.,  97.,  88.,\n",
       "       102.,  86., 122., 121., 147., 100.,  99., 109., 733., 130.,  94.,\n",
       "       739., 137.,  98., 582., 101., 323., 952., 618., 276., 436., 105.,\n",
       "       123., 202., 118., 408., 107., 188., 117., 478., 458., 446., 420.,\n",
       "       354., 334., 545., 534., 400., 112., 352., 370., 506., 558., 142.,\n",
       "       455., 923., 190., 339., 150., 614., 789., 103., 185., 829., 300.,\n",
       "       119., 232., 108., 355., 890., 792., 165., 126., 480., 620., 274.,\n",
       "       124., 782., 501., 131., 380., 928., 336., 778., 454., 132., 643.,\n",
       "       106., 835., 823., 237., 583.])"
      ]
     },
     "execution_count": 30,
     "metadata": {},
     "output_type": "execute_result"
    }
   ],
   "source": [
    "# Aparentemente o que estava atrapalhando o plot eram os valores nulos,visto que agora não temos outliers, porem se verificarmos os valores unicos da varável 'IDADE' vemos que temos de fato valores acima de 100 anos\n",
    "\n",
    "df_industrial_medics['IDADE'].unique()"
   ]
  },
  {
   "cell_type": "code",
   "execution_count": 34,
   "metadata": {},
   "outputs": [
    {
     "data": {
      "text/plain": [
       "Unnamed: 0                357\n",
       "ANO_VENDA                 357\n",
       "MES_VENDA                 357\n",
       "UF_VENDA                  357\n",
       "MUNICIPIO_VENDA           357\n",
       "PRINCIPIO_ATIVO           357\n",
       "DESCRICAO_APRESENTACAO    357\n",
       "QTD_VENDIDA               357\n",
       "UNIDADE_MEDIDA            357\n",
       "CONSELHO_PRESCRITOR       357\n",
       "UF_CONSELHO_PRESCRITOR    357\n",
       "TIPO_RECEITUARIO          357\n",
       "CID10                       0\n",
       "SEXO                      357\n",
       "IDADE                     357\n",
       "UNIDADE_IDADE             357\n",
       "dtype: int64"
      ]
     },
     "execution_count": 34,
     "metadata": {},
     "output_type": "execute_result"
    }
   ],
   "source": [
    "# Nesse caso poodemos contar quantos são os valores acima de 100 anos e verificarmos se esses outliers são relevantes para a análise\n",
    "\n",
    "df_industrial_medics[df_industrial_medics['IDADE'] > 100].count()"
   ]
  },
  {
   "cell_type": "code",
   "execution_count": 41,
   "metadata": {},
   "outputs": [
    {
     "data": {
      "text/html": [
       "<div>\n",
       "<style scoped>\n",
       "    .dataframe tbody tr th:only-of-type {\n",
       "        vertical-align: middle;\n",
       "    }\n",
       "\n",
       "    .dataframe tbody tr th {\n",
       "        vertical-align: top;\n",
       "    }\n",
       "\n",
       "    .dataframe thead th {\n",
       "        text-align: right;\n",
       "    }\n",
       "</style>\n",
       "<table border=\"1\" class=\"dataframe\">\n",
       "  <thead>\n",
       "    <tr style=\"text-align: right;\">\n",
       "      <th></th>\n",
       "      <th>Unnamed: 0</th>\n",
       "      <th>ANO_VENDA</th>\n",
       "      <th>MES_VENDA</th>\n",
       "      <th>UF_VENDA</th>\n",
       "      <th>MUNICIPIO_VENDA</th>\n",
       "      <th>PRINCIPIO_ATIVO</th>\n",
       "      <th>DESCRICAO_APRESENTACAO</th>\n",
       "      <th>QTD_VENDIDA</th>\n",
       "      <th>UNIDADE_MEDIDA</th>\n",
       "      <th>CONSELHO_PRESCRITOR</th>\n",
       "      <th>UF_CONSELHO_PRESCRITOR</th>\n",
       "      <th>TIPO_RECEITUARIO</th>\n",
       "      <th>CID10</th>\n",
       "      <th>SEXO</th>\n",
       "      <th>IDADE</th>\n",
       "      <th>UNIDADE_IDADE</th>\n",
       "    </tr>\n",
       "  </thead>\n",
       "  <tbody>\n",
       "    <tr>\n",
       "      <th>2122</th>\n",
       "      <td>109487</td>\n",
       "      <td>2021</td>\n",
       "      <td>11</td>\n",
       "      <td>MG</td>\n",
       "      <td>SANTOS DUMONT</td>\n",
       "      <td>FENOBARBITAL</td>\n",
       "      <td>100 MG COM CT BL AL PLAS TRANS X 20</td>\n",
       "      <td>4</td>\n",
       "      <td>CAIXA</td>\n",
       "      <td>CRM</td>\n",
       "      <td>MG</td>\n",
       "      <td>3.0</td>\n",
       "      <td>NaN</td>\n",
       "      <td>1.0</td>\n",
       "      <td>999.0</td>\n",
       "      <td>1.0</td>\n",
       "    </tr>\n",
       "    <tr>\n",
       "      <th>4422</th>\n",
       "      <td>110871</td>\n",
       "      <td>2021</td>\n",
       "      <td>11</td>\n",
       "      <td>MG</td>\n",
       "      <td>SANTOS DUMONT</td>\n",
       "      <td>OXALATO DE ESCITALOPRAM</td>\n",
       "      <td>10 MG COM REV CT BL AL PLAS OPC X 30</td>\n",
       "      <td>4</td>\n",
       "      <td>CAIXA</td>\n",
       "      <td>CRM</td>\n",
       "      <td>MG</td>\n",
       "      <td>3.0</td>\n",
       "      <td>NaN</td>\n",
       "      <td>1.0</td>\n",
       "      <td>999.0</td>\n",
       "      <td>1.0</td>\n",
       "    </tr>\n",
       "    <tr>\n",
       "      <th>5224</th>\n",
       "      <td>109485</td>\n",
       "      <td>2021</td>\n",
       "      <td>11</td>\n",
       "      <td>MG</td>\n",
       "      <td>SANTOS DUMONT</td>\n",
       "      <td>FENOBARBITAL</td>\n",
       "      <td>100 MG COM CT BL AL PLAS PVC TRANS X 30</td>\n",
       "      <td>4</td>\n",
       "      <td>CAIXA</td>\n",
       "      <td>CRM</td>\n",
       "      <td>MG</td>\n",
       "      <td>3.0</td>\n",
       "      <td>NaN</td>\n",
       "      <td>1.0</td>\n",
       "      <td>999.0</td>\n",
       "      <td>1.0</td>\n",
       "    </tr>\n",
       "    <tr>\n",
       "      <th>5438</th>\n",
       "      <td>108666</td>\n",
       "      <td>2021</td>\n",
       "      <td>11</td>\n",
       "      <td>MG</td>\n",
       "      <td>SANTOS DUMONT</td>\n",
       "      <td>CLORIDRATO DE VENLAFAXINA</td>\n",
       "      <td>37,5 MG CAP DURA LIB PROL CT BL AL PLAS TRANS ...</td>\n",
       "      <td>3</td>\n",
       "      <td>CAIXA</td>\n",
       "      <td>CRM</td>\n",
       "      <td>MG</td>\n",
       "      <td>3.0</td>\n",
       "      <td>NaN</td>\n",
       "      <td>1.0</td>\n",
       "      <td>999.0</td>\n",
       "      <td>1.0</td>\n",
       "    </tr>\n",
       "    <tr>\n",
       "      <th>12346</th>\n",
       "      <td>110918</td>\n",
       "      <td>2021</td>\n",
       "      <td>11</td>\n",
       "      <td>MG</td>\n",
       "      <td>SANTOS DUMONT</td>\n",
       "      <td>PREGABALINA</td>\n",
       "      <td>150 MG CAP DURA CT BL AL PLAS TRANS X 30</td>\n",
       "      <td>3</td>\n",
       "      <td>CAIXA</td>\n",
       "      <td>CRM</td>\n",
       "      <td>MG</td>\n",
       "      <td>3.0</td>\n",
       "      <td>NaN</td>\n",
       "      <td>1.0</td>\n",
       "      <td>999.0</td>\n",
       "      <td>1.0</td>\n",
       "    </tr>\n",
       "    <tr>\n",
       "      <th>...</th>\n",
       "      <td>...</td>\n",
       "      <td>...</td>\n",
       "      <td>...</td>\n",
       "      <td>...</td>\n",
       "      <td>...</td>\n",
       "      <td>...</td>\n",
       "      <td>...</td>\n",
       "      <td>...</td>\n",
       "      <td>...</td>\n",
       "      <td>...</td>\n",
       "      <td>...</td>\n",
       "      <td>...</td>\n",
       "      <td>...</td>\n",
       "      <td>...</td>\n",
       "      <td>...</td>\n",
       "      <td>...</td>\n",
       "    </tr>\n",
       "    <tr>\n",
       "      <th>194206</th>\n",
       "      <td>105183</td>\n",
       "      <td>2021</td>\n",
       "      <td>11</td>\n",
       "      <td>MG</td>\n",
       "      <td>SANTOS DUMONT</td>\n",
       "      <td>CLORIDRATO DE BUPROPIONA</td>\n",
       "      <td>150 MG COM REV LIB PROL CT BL AL AL X 60</td>\n",
       "      <td>1</td>\n",
       "      <td>CAIXA</td>\n",
       "      <td>CRM</td>\n",
       "      <td>MG</td>\n",
       "      <td>3.0</td>\n",
       "      <td>NaN</td>\n",
       "      <td>2.0</td>\n",
       "      <td>999.0</td>\n",
       "      <td>1.0</td>\n",
       "    </tr>\n",
       "    <tr>\n",
       "      <th>196046</th>\n",
       "      <td>107934</td>\n",
       "      <td>2021</td>\n",
       "      <td>11</td>\n",
       "      <td>MG</td>\n",
       "      <td>SANTOS DUMONT</td>\n",
       "      <td>CLORIDRATO DE FLUOXETINA</td>\n",
       "      <td>20MG COM REV CT BL AL PLAS OPC X 30</td>\n",
       "      <td>5</td>\n",
       "      <td>CAIXA</td>\n",
       "      <td>CRM</td>\n",
       "      <td>MG</td>\n",
       "      <td>3.0</td>\n",
       "      <td>NaN</td>\n",
       "      <td>1.0</td>\n",
       "      <td>999.0</td>\n",
       "      <td>1.0</td>\n",
       "    </tr>\n",
       "    <tr>\n",
       "      <th>196241</th>\n",
       "      <td>110076</td>\n",
       "      <td>2021</td>\n",
       "      <td>11</td>\n",
       "      <td>MG</td>\n",
       "      <td>SANTOS DUMONT</td>\n",
       "      <td>HEMIFUMARATO DE QUETIAPINA</td>\n",
       "      <td>50 MG COM REV LIB PROL CT BL PLAS TRANS AL X 30</td>\n",
       "      <td>2</td>\n",
       "      <td>CAIXA</td>\n",
       "      <td>CRM</td>\n",
       "      <td>MG</td>\n",
       "      <td>3.0</td>\n",
       "      <td>NaN</td>\n",
       "      <td>1.0</td>\n",
       "      <td>999.0</td>\n",
       "      <td>1.0</td>\n",
       "    </tr>\n",
       "    <tr>\n",
       "      <th>198418</th>\n",
       "      <td>105151</td>\n",
       "      <td>2021</td>\n",
       "      <td>11</td>\n",
       "      <td>MG</td>\n",
       "      <td>SANTOS DUMONT</td>\n",
       "      <td>CLONAZEPAM</td>\n",
       "      <td>2 MG COM CT BL AL PLAS PVDC OPC X 30</td>\n",
       "      <td>9</td>\n",
       "      <td>CAIXA</td>\n",
       "      <td>CRM</td>\n",
       "      <td>MG</td>\n",
       "      <td>2.0</td>\n",
       "      <td>NaN</td>\n",
       "      <td>2.0</td>\n",
       "      <td>999.0</td>\n",
       "      <td>1.0</td>\n",
       "    </tr>\n",
       "    <tr>\n",
       "      <th>199738</th>\n",
       "      <td>110973</td>\n",
       "      <td>2021</td>\n",
       "      <td>11</td>\n",
       "      <td>MG</td>\n",
       "      <td>SANTOS DUMONT</td>\n",
       "      <td>RISPERIDONA</td>\n",
       "      <td>2 MG COM REV CT BL AL PLAS TRANS X 30</td>\n",
       "      <td>2</td>\n",
       "      <td>CAIXA</td>\n",
       "      <td>CRM</td>\n",
       "      <td>MG</td>\n",
       "      <td>3.0</td>\n",
       "      <td>NaN</td>\n",
       "      <td>1.0</td>\n",
       "      <td>999.0</td>\n",
       "      <td>1.0</td>\n",
       "    </tr>\n",
       "  </tbody>\n",
       "</table>\n",
       "<p>135 rows × 16 columns</p>\n",
       "</div>"
      ],
      "text/plain": [
       "        Unnamed: 0  ANO_VENDA  MES_VENDA UF_VENDA MUNICIPIO_VENDA  \\\n",
       "2122        109487       2021         11       MG   SANTOS DUMONT   \n",
       "4422        110871       2021         11       MG   SANTOS DUMONT   \n",
       "5224        109485       2021         11       MG   SANTOS DUMONT   \n",
       "5438        108666       2021         11       MG   SANTOS DUMONT   \n",
       "12346       110918       2021         11       MG   SANTOS DUMONT   \n",
       "...            ...        ...        ...      ...             ...   \n",
       "194206      105183       2021         11       MG   SANTOS DUMONT   \n",
       "196046      107934       2021         11       MG   SANTOS DUMONT   \n",
       "196241      110076       2021         11       MG   SANTOS DUMONT   \n",
       "198418      105151       2021         11       MG   SANTOS DUMONT   \n",
       "199738      110973       2021         11       MG   SANTOS DUMONT   \n",
       "\n",
       "                   PRINCIPIO_ATIVO  \\\n",
       "2122                  FENOBARBITAL   \n",
       "4422       OXALATO DE ESCITALOPRAM   \n",
       "5224                  FENOBARBITAL   \n",
       "5438     CLORIDRATO DE VENLAFAXINA   \n",
       "12346                  PREGABALINA   \n",
       "...                            ...   \n",
       "194206    CLORIDRATO DE BUPROPIONA   \n",
       "196046    CLORIDRATO DE FLUOXETINA   \n",
       "196241  HEMIFUMARATO DE QUETIAPINA   \n",
       "198418                  CLONAZEPAM   \n",
       "199738                 RISPERIDONA   \n",
       "\n",
       "                                   DESCRICAO_APRESENTACAO  QTD_VENDIDA  \\\n",
       "2122                  100 MG COM CT BL AL PLAS TRANS X 20            4   \n",
       "4422                 10 MG COM REV CT BL AL PLAS OPC X 30            4   \n",
       "5224              100 MG COM CT BL AL PLAS PVC TRANS X 30            4   \n",
       "5438    37,5 MG CAP DURA LIB PROL CT BL AL PLAS TRANS ...            3   \n",
       "12346            150 MG CAP DURA CT BL AL PLAS TRANS X 30            3   \n",
       "...                                                   ...          ...   \n",
       "194206           150 MG COM REV LIB PROL CT BL AL AL X 60            1   \n",
       "196046                20MG COM REV CT BL AL PLAS OPC X 30            5   \n",
       "196241    50 MG COM REV LIB PROL CT BL PLAS TRANS AL X 30            2   \n",
       "198418               2 MG COM CT BL AL PLAS PVDC OPC X 30            9   \n",
       "199738              2 MG COM REV CT BL AL PLAS TRANS X 30            2   \n",
       "\n",
       "       UNIDADE_MEDIDA CONSELHO_PRESCRITOR UF_CONSELHO_PRESCRITOR  \\\n",
       "2122            CAIXA                 CRM                     MG   \n",
       "4422            CAIXA                 CRM                     MG   \n",
       "5224            CAIXA                 CRM                     MG   \n",
       "5438            CAIXA                 CRM                     MG   \n",
       "12346           CAIXA                 CRM                     MG   \n",
       "...               ...                 ...                    ...   \n",
       "194206          CAIXA                 CRM                     MG   \n",
       "196046          CAIXA                 CRM                     MG   \n",
       "196241          CAIXA                 CRM                     MG   \n",
       "198418          CAIXA                 CRM                     MG   \n",
       "199738          CAIXA                 CRM                     MG   \n",
       "\n",
       "        TIPO_RECEITUARIO CID10  SEXO  IDADE  UNIDADE_IDADE  \n",
       "2122                 3.0   NaN   1.0  999.0            1.0  \n",
       "4422                 3.0   NaN   1.0  999.0            1.0  \n",
       "5224                 3.0   NaN   1.0  999.0            1.0  \n",
       "5438                 3.0   NaN   1.0  999.0            1.0  \n",
       "12346                3.0   NaN   1.0  999.0            1.0  \n",
       "...                  ...   ...   ...    ...            ...  \n",
       "194206               3.0   NaN   2.0  999.0            1.0  \n",
       "196046               3.0   NaN   1.0  999.0            1.0  \n",
       "196241               3.0   NaN   1.0  999.0            1.0  \n",
       "198418               2.0   NaN   2.0  999.0            1.0  \n",
       "199738               3.0   NaN   1.0  999.0            1.0  \n",
       "\n",
       "[135 rows x 16 columns]"
      ]
     },
     "execution_count": 41,
     "metadata": {},
     "output_type": "execute_result"
    }
   ],
   "source": [
    "# Possuimos 357 valores de idade acima de 100 anos, vamos ver o que está acontecendo com esses dados selecionando um valor de dade acima de 100 em específico para ver a relalção\n",
    "\n",
    "df_industrial_medics[df_industrial_medics['IDADE'] == 999]"
   ]
  },
  {
   "cell_type": "markdown",
   "metadata": {},
   "source": [
    "3. Vemos que por exemplo para uma idade de 999 anos temos compras no mesmo 'UF' e mesmo 'MUNICIIPO_VENDA', indicando que foi a mesma entidade a compradora, provavelmente uma empresa e não uma pessoa, dito isso para analises de idade precisamos utilizar filtros se quisermos determinar padroes e tendencias."
   ]
  },
  {
   "cell_type": "markdown",
   "metadata": {},
   "source": [
    "* Converter tipos de dados, se necessário, garantindo que colunas relacionadas a datas estejam no formato correto."
   ]
  },
  {
   "cell_type": "markdown",
   "metadata": {},
   "source": [
    "## 2. Análise Exploratória de Dados (EDA):"
   ]
  },
  {
   "cell_type": "markdown",
   "metadata": {},
   "source": [
    "* Tendências de Vendas:\n",
    "    - Vendas mensais: Identificar se há meses com vendas excepcionalmente altas ou baixas.\n",
    "    - Análise por estado (UF_VENDA): Quais estados têm o maior número de vendas? Existem padrões regionais?"
   ]
  },
  {
   "cell_type": "markdown",
   "metadata": {},
   "source": [
    "* Produtos Mais Vendidos:\n",
    "    - Baseado no PRINCIPIO_ATIVO: Quais são os medicamentos mais populares?\n",
    "    - Baseado na DESCRICAO_APRESENTACAO: Quais apresentações ou dosagens são mais vendidas?\n"
   ]
  },
  {
   "cell_type": "markdown",
   "metadata": {},
   "source": [
    "* Demografia dos Consumidores:\n",
    "    - Distribuição de idade dos compradores.\n",
    "    - Distribuição de gênero dos compradores.\n"
   ]
  },
  {
   "cell_type": "markdown",
   "metadata": {},
   "source": [
    "* Correlações:\n",
    "    - Existe uma correlação entre o tipo de medicamento e a idade do comprador?\n",
    "    - Existe uma correlação entre o gênero do comprador e o tipo de medicamento?\n"
   ]
  },
  {
   "cell_type": "markdown",
   "metadata": {},
   "source": [
    "## 3. Visualização de Dados:"
   ]
  },
  {
   "cell_type": "markdown",
   "metadata": {},
   "source": [
    "* Gráficos de barras para mostrar as vendas por estado, por medicamento e por gênero.\n"
   ]
  },
  {
   "cell_type": "markdown",
   "metadata": {},
   "source": [
    "* Histogramas para distribuição de idade.\n"
   ]
  },
  {
   "cell_type": "markdown",
   "metadata": {},
   "source": [
    "* Heatmaps para correlações.\n"
   ]
  },
  {
   "cell_type": "markdown",
   "metadata": {},
   "source": [
    "* Gráficos de linha para tendências de vendas ao longo dos meses."
   ]
  },
  {
   "cell_type": "markdown",
   "metadata": {},
   "source": [
    "## 4. Insights e Recomendações:"
   ]
  },
  {
   "cell_type": "markdown",
   "metadata": {},
   "source": [
    "* Com base na EDA, identifique insights interessantes sobre os hábitos de compra e padrões.\n"
   ]
  },
  {
   "cell_type": "markdown",
   "metadata": {},
   "source": [
    "* Formule recomendações para farmácias ou empresas farmacêuticas com base nas tendências observadas."
   ]
  },
  {
   "cell_type": "markdown",
   "metadata": {},
   "source": [
    "# Montar uma apresentação com até 5 slides sobre minha análise"
   ]
  },
  {
   "cell_type": "markdown",
   "metadata": {},
   "source": [
    "### Slide 1: Título e Introdução"
   ]
  },
  {
   "cell_type": "markdown",
   "metadata": {},
   "source": [
    "* Título: \"Análise de Vendas Farmacêuticas\"\n",
    "* Subtítulo: Uma visão geral das vendas de medicamentos."
   ]
  },
  {
   "cell_type": "markdown",
   "metadata": {},
   "source": [
    "### Slide 2: Metodologia e Limpeza de Dados"
   ]
  },
  {
   "cell_type": "markdown",
   "metadata": {},
   "source": [
    "\n",
    "* Título: \"Metodologia e Preparação de Dados\"\n",
    "* Pontos Principais:\n",
    "    - Breve descrição dos dados: O que cada coluna representa.\n",
    "    - Como os valores ausentes foram tratados.\n",
    "    - Como os outliers foram identificados e tratados.\n",
    "* Gráfico/Imagem: Uma visualização que mostre, por exemplo, a quantidade de dados ausentes por coluna ou um gráfico de caixa mostrando a distribuição de uma variável-chave."
   ]
  },
  {
   "cell_type": "markdown",
   "metadata": {},
   "source": [
    "### Slide 3: Tendências e Padrões de Vendas\n"
   ]
  },
  {
   "cell_type": "markdown",
   "metadata": {},
   "source": [
    "\n",
    "* Título: \"Tendências de Vendas por Região e Tempo\"\n",
    "* Pontos Principais:\n",
    "    - Vendas totais por estado.\n",
    "    - Meses com maiores e menores vendas.\n",
    "* Gráficos:\n",
    "    - Gráfico de barras mostrando vendas por estado.\n",
    "    - Gráfico de linha mostrando a tendência de vendas ao longo dos meses."
   ]
  },
  {
   "cell_type": "markdown",
   "metadata": {},
   "source": [
    "### Slide 4: Informações Demográficas"
   ]
  },
  {
   "cell_type": "markdown",
   "metadata": {},
   "source": [
    "\n",
    "* Título: \"Perfil do Consumidor\"\n",
    "* Pontos Principais:\n",
    "    - Distribuição de idade dos compradores.\n",
    "    - Distribuição de gênero dos compradores.\n",
    "* Gráficos:\n",
    "    - Histograma para distribuição de idade.\n",
    "    - Gráfico de barras ou torta para distribuição de gênero."
   ]
  },
  {
   "cell_type": "markdown",
   "metadata": {},
   "source": [
    "### Slide 5: Conclusões e Recomendações"
   ]
  },
  {
   "cell_type": "markdown",
   "metadata": {},
   "source": [
    "\n",
    "* Título: \"Insights e Próximos Passos\"\n",
    "* Pontos Principais:\n",
    "    - Quais medicamentos ou apresentações são os mais vendidos e onde.\n",
    "    - Insights sobre preferências demográficas.\n",
    "    - Recomendações para estratégias de marketing ou distribuição.\n",
    "* Imagem: Uma imagem que represente estratégia ou planejamento."
   ]
  }
 ],
 "metadata": {
  "kernelspec": {
   "display_name": "Python 3",
   "language": "python",
   "name": "python3"
  },
  "language_info": {
   "codemirror_mode": {
    "name": "ipython",
    "version": 3
   },
   "file_extension": ".py",
   "mimetype": "text/x-python",
   "name": "python",
   "nbconvert_exporter": "python",
   "pygments_lexer": "ipython3",
   "version": "3.12.2"
  }
 },
 "nbformat": 4,
 "nbformat_minor": 2
}
